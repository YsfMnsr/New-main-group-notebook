{
  "nbformat": 4,
  "nbformat_minor": 0,
  "metadata": {
    "colab": {
      "name": "telkom project customer base evo.ipynb",
      "provenance": [],
      "authorship_tag": "ABX9TyM/YHQqY7qoPFLVzRuzjbQH",
      "include_colab_link": true
    },
    "kernelspec": {
      "name": "python3",
      "display_name": "Python 3"
    },
    "language_info": {
      "name": "python"
    }
  },
  "cells": [
    {
      "cell_type": "markdown",
      "metadata": {
        "id": "view-in-github",
        "colab_type": "text"
      },
      "source": [
        "<a href=\"https://colab.research.google.com/github/YsfMnsr/New-main-group-notebook/blob/main/telkom_project_customer_base_evo.ipynb\" target=\"_parent\"><img src=\"https://colab.research.google.com/assets/colab-badge.svg\" alt=\"Open In Colab\"/></a>"
      ]
    },
    {
      "cell_type": "code",
      "metadata": {
        "id": "V4iYQ4Y9CxAC"
      },
      "source": [
        "import pandas as pd\n",
        "import numpy as np\n",
        "import matplotlib.pyplot as plt \n",
        "import seaborn as sns \n",
        "%matplotlib inline\n"
      ],
      "execution_count": 2,
      "outputs": []
    },
    {
      "cell_type": "code",
      "metadata": {
        "id": "DtC4T9J1-IKq"
      },
      "source": [
        "from google.cloud import bigquery"
      ],
      "execution_count": 3,
      "outputs": []
    },
    {
      "cell_type": "code",
      "metadata": {
        "colab": {
          "base_uri": "https://localhost:8080/"
        },
        "id": "UEg1JTlQ-I-g",
        "outputId": "72fc722d-6162-4c88-d1c3-e31ac0565b4d"
      },
      "source": [
        "sql = \"\"\"\n",
        "Select * from `tkg-smb-cbe.tkg_bcx_wh_edw_eiwdev.SMB_F_BASE_EVO_ACC_latest` \"\"\"\n",
        "\n",
        "evo_acc_df = pd.read_gbq(sql, project_id = 'tkg-smb-cbe', dialect = 'standard')\n"
      ],
      "execution_count": 4,
      "outputs": [
        {
          "name": "stdout",
          "output_type": "stream",
          "text": [
            "Please visit this URL to authorize this application: https://accounts.google.com/o/oauth2/auth?response_type=code&client_id=725825577420-unm2gnkiprugilg743tkbig250f4sfsj.apps.googleusercontent.com&redirect_uri=urn%3Aietf%3Awg%3Aoauth%3A2.0%3Aoob&scope=https%3A%2F%2Fwww.googleapis.com%2Fauth%2Fbigquery&state=ohHjuQpc4veZisWrkb3WHUQ7A6o0PD&prompt=consent&access_type=offline\n",
            "Enter the authorization code: 4/1AX4XfWjDi2Yy-wwYOxMK7X13Mwj8MmHl7QDr8nkIrCzUCOzmnjWtrK8bMYQ\n"
          ]
        }
      ]
    },
    {
      "cell_type": "code",
      "metadata": {
        "colab": {
          "base_uri": "https://localhost:8080/"
        },
        "id": "fOSigQli-JaB",
        "outputId": "ce2cca14-7459-45e6-fa55-5e506c44fd05"
      },
      "source": [
        "evo_acc_df.info()\n"
      ],
      "execution_count": 5,
      "outputs": [
        {
          "output_type": "stream",
          "name": "stdout",
          "text": [
            "<class 'pandas.core.frame.DataFrame'>\n",
            "RangeIndex: 269585 entries, 0 to 269584\n",
            "Data columns (total 9 columns):\n",
            " #   Column              Non-Null Count   Dtype              \n",
            "---  ------              --------------   -----              \n",
            " 0   account_id          269585 non-null  object             \n",
            " 1   account_no          269585 non-null  object             \n",
            " 2   start_date          269585 non-null  datetime64[ns, UTC]\n",
            " 3   end_date            0 non-null       datetime64[ns, UTC]\n",
            " 4   current_indic       269585 non-null  object             \n",
            " 5   account_name        269585 non-null  object             \n",
            " 6   account_trade_name  269585 non-null  object             \n",
            " 7   sic_code            269585 non-null  object             \n",
            " 8   cust_sic_name       269585 non-null  object             \n",
            "dtypes: datetime64[ns, UTC](2), object(7)\n",
            "memory usage: 18.5+ MB\n"
          ]
        }
      ]
    },
    {
      "cell_type": "code",
      "metadata": {
        "id": "xGJk-1YlEiXW"
      },
      "source": [
        "sql1 = \"\"\"\n",
        "Select * from `tkg-smb-cbe.tkg_bcx_wh_edw_eiwdev.SMB_F_BASE_EVO_BILL_ACC_latest` \"\"\"\n",
        "\n",
        "bill_acc_df = pd.read_gbq(sql1, project_id = 'tkg-smb-cbe', dialect = 'standard')"
      ],
      "execution_count": 6,
      "outputs": []
    },
    {
      "cell_type": "code",
      "metadata": {
        "colab": {
          "base_uri": "https://localhost:8080/"
        },
        "id": "sxdf1zg7Ej4q",
        "outputId": "2d5a4269-c8c4-48ff-9683-ad518ae41843"
      },
      "source": [
        "bill_acc_df.info()"
      ],
      "execution_count": 7,
      "outputs": [
        {
          "output_type": "stream",
          "name": "stdout",
          "text": [
            "<class 'pandas.core.frame.DataFrame'>\n",
            "RangeIndex: 320911 entries, 0 to 320910\n",
            "Data columns (total 35 columns):\n",
            " #   Column                       Non-Null Count   Dtype              \n",
            "---  ------                       --------------   -----              \n",
            " 0   ban                          320911 non-null  object             \n",
            " 1   account_no                   320911 non-null  object             \n",
            " 2   ban_create_date              320911 non-null  datetime64[ns, UTC]\n",
            " 3   start_date                   320911 non-null  datetime64[ns, UTC]\n",
            " 4   end_date                     0 non-null       datetime64[ns, UTC]\n",
            " 5   current_indic                320911 non-null  object             \n",
            " 6   controlling_region_name      320911 non-null  object             \n",
            " 7   bill_account_name            320911 non-null  object             \n",
            " 8   trade_name                   320911 non-null  object             \n",
            " 9   care_off_person_name         320911 non-null  object             \n",
            " 10  cost_code                    320911 non-null  object             \n",
            " 11  account_type_code            320911 non-null  object             \n",
            " 12  account_type_sub_code        320911 non-null  object             \n",
            " 13  account_code_comb            320911 non-null  object             \n",
            " 14  account_desc                 320911 non-null  object             \n",
            " 15  account_type_desc            320911 non-null  object             \n",
            " 16  account_sub_type_desc        320911 non-null  object             \n",
            " 17  status_code                  320911 non-null  object             \n",
            " 18  status_desc                  320911 non-null  object             \n",
            " 19  status_change_date           320911 non-null  datetime64[ns, UTC]\n",
            " 20  status_activity_code         320911 non-null  object             \n",
            " 21  status_activity_reason_code  320911 non-null  object             \n",
            " 22  status_activity_reason_desc  320911 non-null  object             \n",
            " 23  service_start_date           320911 non-null  datetime64[ns, UTC]\n",
            " 24  bill_cycle_no                320911 non-null  float64            \n",
            " 25  language_name                320911 non-null  object             \n",
            " 26  balance_amt                  320911 non-null  float64            \n",
            " 27  vat_no                       320911 non-null  object             \n",
            " 28  vat_exempt_indic             320911 non-null  object             \n",
            " 29  invoice_dist_method_desc     320911 non-null  object             \n",
            " 30  source_system_code           320911 non-null  object             \n",
            " 31  territory_segment_type_desc  320911 non-null  object             \n",
            " 32  territory_id                 320911 non-null  object             \n",
            " 33  territory_name               320911 non-null  object             \n",
            " 34  inv_distr_methods            320911 non-null  object             \n",
            "dtypes: datetime64[ns, UTC](5), float64(2), object(28)\n",
            "memory usage: 85.7+ MB\n"
          ]
        }
      ]
    },
    {
      "cell_type": "code",
      "metadata": {
        "id": "ZNJjhQrDEkGz"
      },
      "source": [
        "sql2 = \"\"\"\n",
        "Select * from `tkg-smb-cbe.tkg_bcx_wh_edw_eiwdev.SMB_F_BASE_EVO_BILL_FACT_latest`\"\"\"\n",
        "\n",
        "bill_fact_df = pd.read_gbq(sql2, project_id = 'tkg-smb-cbe', dialect = 'standard')"
      ],
      "execution_count": null,
      "outputs": []
    },
    {
      "cell_type": "code",
      "metadata": {
        "id": "GZMoz7aHEkKG"
      },
      "source": [
        "sql3 = \"\"\"\n",
        "Select * from `tkg-smb-cbe.tkg_bcx_wh_edw_eiwdev.SMB_F_BASE_EVO_SERV_latest`\"\"\"\n",
        "\n",
        "evo_serv_df = pd.read_gbq(sql3, project_id = 'tkg-smb-cbe', dialect = 'standard')"
      ],
      "execution_count": 9,
      "outputs": []
    },
    {
      "cell_type": "code",
      "metadata": {
        "colab": {
          "base_uri": "https://localhost:8080/"
        },
        "id": "xEWZBHZGEkOS",
        "outputId": "c1d7f382-7a1b-4e87-8b67-b80a77740d62"
      },
      "source": [
        "evo_serv_df.info()"
      ],
      "execution_count": 10,
      "outputs": [
        {
          "output_type": "stream",
          "name": "stdout",
          "text": [
            "<class 'pandas.core.frame.DataFrame'>\n",
            "RangeIndex: 1051483 entries, 0 to 1051482\n",
            "Data columns (total 34 columns):\n",
            " #   Column               Non-Null Count    Dtype              \n",
            "---  ------               --------------    -----              \n",
            " 0   service_no           1051483 non-null  object             \n",
            " 1   ban                  1051483 non-null  object             \n",
            " 2   account_no           1051483 non-null  object             \n",
            " 3   start_date           1051483 non-null  datetime64[ns, UTC]\n",
            " 4   end_date             0 non-null        datetime64[ns, UTC]\n",
            " 5   current_indic        1051483 non-null  object             \n",
            " 6   service_desc         1051483 non-null  object             \n",
            " 7   service_type_desc    1051483 non-null  object             \n",
            " 8   service_status_desc  1051483 non-null  object             \n",
            " 9   pis_date             1051483 non-null  datetime64[ns, UTC]\n",
            " 10  bill_start_date      1051457 non-null  datetime64[ns, UTC]\n",
            " 11  discontinue_date     675319 non-null   datetime64[ns, UTC]\n",
            " 12  action_date          1051483 non-null  datetime64[ns, UTC]\n",
            " 13  product_family_desc  1051483 non-null  object             \n",
            " 14  circuit_type_desc    1051483 non-null  object             \n",
            " 15  distance_band        1051483 non-null  object             \n",
            " 16  order_id             1051483 non-null  object             \n",
            " 17  reason_desc          1051483 non-null  object             \n",
            " 18  action_desc          1051483 non-null  object             \n",
            " 19  speed_desc           1051483 non-null  object             \n",
            " 20  component_id         1051483 non-null  object             \n",
            " 21  offer_id             1051483 non-null  object             \n",
            " 22  offer_name           1051483 non-null  object             \n",
            " 23  product_level_1      1048640 non-null  object             \n",
            " 24  product_level_2      1048640 non-null  object             \n",
            " 25  product_level_3      1048640 non-null  object             \n",
            " 26  product_level_4      1048640 non-null  object             \n",
            " 27  site_id              1051483 non-null  object             \n",
            " 28  service_type_code    1051483 non-null  object             \n",
            " 29  service_status_code  1051483 non-null  object             \n",
            " 30  service_type_indic   1051483 non-null  object             \n",
            " 31  bill_end_date        668061 non-null   datetime64[ns, UTC]\n",
            " 32  network_access_type  1051084 non-null  object             \n",
            " 33  state                681625 non-null   object             \n",
            "dtypes: datetime64[ns, UTC](7), object(27)\n",
            "memory usage: 272.8+ MB\n"
          ]
        }
      ]
    },
    {
      "cell_type": "code",
      "metadata": {
        "id": "qlOZkIuwEkRb"
      },
      "source": [
        ""
      ],
      "execution_count": null,
      "outputs": []
    },
    {
      "cell_type": "code",
      "metadata": {
        "id": "2yTn43nmEkT8"
      },
      "source": [
        ""
      ],
      "execution_count": null,
      "outputs": []
    },
    {
      "cell_type": "code",
      "metadata": {
        "id": "B7KuXR1GEkXb"
      },
      "source": [
        ""
      ],
      "execution_count": null,
      "outputs": []
    },
    {
      "cell_type": "code",
      "metadata": {
        "id": "ot0AGAIoEkbj"
      },
      "source": [
        ""
      ],
      "execution_count": null,
      "outputs": []
    },
    {
      "cell_type": "code",
      "metadata": {
        "id": "ALXimpbrEkel"
      },
      "source": [
        ""
      ],
      "execution_count": null,
      "outputs": []
    },
    {
      "cell_type": "code",
      "metadata": {
        "id": "p8mRxGHQEkis"
      },
      "source": [
        ""
      ],
      "execution_count": null,
      "outputs": []
    },
    {
      "cell_type": "code",
      "metadata": {
        "id": "zUYCtEGCEklk"
      },
      "source": [
        ""
      ],
      "execution_count": null,
      "outputs": []
    },
    {
      "cell_type": "code",
      "metadata": {
        "id": "5ppvf43bEkog"
      },
      "source": [
        ""
      ],
      "execution_count": null,
      "outputs": []
    },
    {
      "cell_type": "code",
      "metadata": {
        "id": "AYNy0AVlEkrC"
      },
      "source": [
        ""
      ],
      "execution_count": null,
      "outputs": []
    }
  ]
}