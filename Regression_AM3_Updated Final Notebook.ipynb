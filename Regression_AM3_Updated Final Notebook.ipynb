{
 "cells": [
  {
   "cell_type": "markdown",
   "metadata": {},
   "source": [
    "#  <center><span style=\"color:darkred; font-size:3em;\">Team AM3  </span>"
   ]
  },
  {
   "cell_type": "markdown",
   "metadata": {},
   "source": [
    "#  <center><span style=\"color:darkred; font-size:1.3em;\"> Delicious Golden Apple Prices Challenge Regression Model\n",
    "</span>\n"
   ]
  },
  {
   "cell_type": "markdown",
   "metadata": {},
   "source": [
    "<img src=\"https://producegeek.com/wp-content/uploads/2016/10/golden-delicious-apples-02.jpg\" width=\"300\" height=\"300\" align=\"center\"/>"
   ]
  },
  {
   "cell_type": "markdown",
   "metadata": {},
   "source": [
    "## Overview"
   ]
  },
  {
   "cell_type": "markdown",
   "metadata": {},
   "source": [
    "This notebook illustrates the process taken to find a model that can predict Average Price per kilogram with relative accuracy. Machine learning models are used to predict the average price per kilogram for Golden Delicious Apples from Explanatory features and aims to help all producing industries to improve their stock and communicate an accurate price to their customers, also to compare if their prices fluctuate by season as the yields from farms fluctuate by season"
   ]
  },
  {
   "cell_type": "markdown",
   "metadata": {},
   "source": [
    "## Problem identification"
   ]
  },
  {
   "cell_type": "markdown",
   "metadata": {},
   "source": [
    "### <center> Challenge: EDSA Apple Prices Challange"
   ]
  },
  {
   "cell_type": "markdown",
   "metadata": {},
   "source": [
    "**Team AM3** was challenged by EDSA(Explore Data Science Academy), with the task of creating a Machine Learning model that is capable of accurately predicting how much a kilogram of Golden Delicious Apple will cost, given certain parameters. Supervised machine learning models, as we'll encounter inside this notebook, refer to models that improve automatically through experience. They are called \"supervised\", because they depend on some input to be able to produce a prediction.  "
   ]
  },
  {
   "cell_type": "markdown",
   "metadata": {},
   "source": [
    "#### Background  \n",
    "In a [research article](https://minnetonkaorchards.com/golden-delicious-apples/) explains,Golden Delicious Apple are pale green to golden yellow in color which were discovered in 1912 in Clay country by Anderson Mullins.They are related to the Grimes Golden but have a sweeter taste. They were discovered by accident on a family farm and rose to be one of the most popular varieties sold today. Furthermore, this variety is the parent of over 30 other popular varieties.\n",
    "\n",
    "These apples are a favorite for everything from apple pie to apple juice. In the above article you’ll find everything you need to know about Golden Delicious apples, from their fascinating origin to where they grow.\n",
    "\n",
    "#### Problem statement  \n",
    "Construct a regression algorithm, capable of accurately predicting how a kilogram of Golden Delicious Apple will cost.\n",
    "\n",
    "You can find the project overview [here](https://www.kaggle.com/c/edsa-apple-prices-challenge/overview).\n"
   ]
  },
  {
   "cell_type": "markdown",
   "metadata": {},
   "source": [
    "## Table of contents  \n",
    "<a id='toc'></a>\n",
    "1. [Importing packages](#imp_pac)  \n",
    "\n",
    "\n",
    "2. [Importing the data](#imp_dat)  \n",
    "    \n",
    "    \n",
    "3. [Data description](#ddescribe)   \n",
    "     \n",
    "    \n",
    "4. [Preprocessing](#the_prep)    \n",
    "    4.1. Extra feature extraction  \n",
    "    4.2. Data cleaning\n",
    "    \n",
    "    \n",
    "5. [Exploratory data analysis](#eda)  \n",
    "    5.1. General analysis  \n",
    "    5.2. Target variable analysis  \n",
    "    \n",
    "    \n",
    "\n",
    "6. [Splitting the data](#split)  \n",
    "    6.1. Split into response and predictor  \n",
    "    6.2. Split data into training and testing sets\n",
    "\n",
    "\n",
    "7. [Feature extraction](#vect)  \n",
    "    7.1.  \n",
    "    7.2.  \n",
    "    7.3. \n",
    "\n",
    "\n",
    "8. [Model training](#train)  \n",
    "    8.1.  \n",
    "    8.2. \n",
    "    8.3.   \n",
    "    8.4. \n",
    "    8.5.   \n",
    "    8.6. \n",
    "\n",
    "\n",
    "9. [Evaluate model accuracy](#eval)  \n",
    "    9.1. Make predictions  \n",
    "    9.2. Confusion matrices and ROC curves  \n",
    "    9.3. Classification reports\n",
    "\n",
    "\n",
    "10. [Saving important data](#save)  \n",
    "    10.1. Save the models  \n",
    "    10.2. Save the optimal parameters  \n",
    "    10.3. Save the graphs  \n",
    "    10.4. Log parameters to experiment\n",
    "\n",
    "\n",
    "11. [Produce output](#out) \n",
    "\n",
    "\n",
    "12. [Conclusion](#conclude)\n"
   ]
  },
  {
   "cell_type": "markdown",
   "metadata": {},
   "source": [
    "## 1. Importing packages \n",
    "<a id='imp_pac'></a>\n",
    "[Back to table of contents](#toc)"
   ]
  },
  {
   "cell_type": "code",
   "execution_count": 1,
   "metadata": {},
   "outputs": [],
   "source": [
    "# Importing libraries\n",
    "import pandas as pd\n",
    "import matplotlib.pyplot as plt\n",
    "import seaborn as sns\n",
    "import numpy as np\n",
    "from scipy.stats import norm\n",
    "from sklearn.preprocessing import StandardScaler\n",
    "from scipy import stats\n",
    "import warnings\n",
    "warnings.filterwarnings('ignore')\n",
    "%matplotlib inline"
   ]
  },
  {
   "cell_type": "markdown",
   "metadata": {},
   "source": [
    "## 2. Importing the data\n",
    "<a id='imp_dat'></a>\n",
    "[Back to table of contents](#toc)"
   ]
  },
  {
   "cell_type": "code",
   "execution_count": 2,
   "metadata": {},
   "outputs": [],
   "source": [
    "# Import training dataset\n",
    "df_train=pd.read_csv(r\"C:\\Users\\Pontso\\OneDrive\\Documents\\GitHub\\Regression_AM3_DSFT\\utils\\data\\train_data.csv\")\n",
    "# Import testing dataset\n",
    "df_test=pd.read_csv(r\"C:\\Users\\Pontso\\Downloads\\Advanced_regression_predict-Starter-Data-2629\\df-test_set.csv\")"
   ]
  },
  {
   "cell_type": "markdown",
   "metadata": {},
   "source": [
    "## 3. Data description\n",
    "<a id='ddescribe'></a>\n",
    "[Back to table of contents](#toc)"
   ]
  },
  {
   "cell_type": "markdown",
   "metadata": {},
   "source": [
    "This dataset consists of over 60 000 sales made by Durban Fresh Produce Market. For this Predict, you will need to use this data to predict the average price per kilogram of Golden Delicious Apples. The train dataset consists of 13 columns. A description of each variable in the dataset is given below.  \n"
   ]
  },
  {
   "cell_type": "markdown",
   "metadata": {},
   "source": [
    "### Training set\n",
    "**Variable definitions:**  \n",
    "\n",
    "- **Province** - Different Provinces where the given commodities were produced .\n",
    "- **Container** -an object used for holding or transporting Golden Delicious Apple.      \n",
    "- **Size_Grade** - These are the overall dimensions of how big the apples are.  \n",
    "- **Weight_Kg** -the quantity of apples contained .  \n",
    "- **Commodities** -Different types of agricultural products that can be bought and sold .  \n",
    "- **Date** - the day of the month or year of when the commodities were produced.  \n",
    "- **Low_Price** -It is a price where different commodities they don't cost a lot of money.  \n",
    "- **High_Price** - It is a price where different commodities were expensive.  \n",
    "- **Sales_Total** - total number of reduced prices made for commodities.  \n",
    "- **Total_Qty_Sold** -Total number of commodities sold .  \n",
    "- **Total_Kg_Sold** - total weight of commodities sold.  \n",
    "- **Stock_On_Hand** -is the total amount of any given commodity.  \n",
    "- **avg_price_per_kg** -is the sum of all prices in the commodities divided by the number of commodities per kilogram. \n",
    "\n",
    "### Testing set  \n",
    "During testing we do not have access to other **Commodities** variable and **avg_price_per_kg** it contains the information regarding only the Apple Golden Delicious, but the testing dataset remains the same as the training dataset otherwise.  \n",
    "\n"
   ]
  },
  {
   "cell_type": "markdown",
   "metadata": {},
   "source": [
    "### Data types \n",
    "\n",
    "Let's get quick overview of the datasets we will be working with throughout the notebook. The output below contains the shape of the dataset, a list of all columns with their data types and the number of non-null values present in each column.  \n",
    "\n",
    "**Train data**  \n"
   ]
  },
  {
   "cell_type": "code",
   "execution_count": 3,
   "metadata": {},
   "outputs": [
    {
     "name": "stdout",
     "output_type": "stream",
     "text": [
      "<class 'pandas.core.frame.DataFrame'>\n",
      "RangeIndex: 64376 entries, 0 to 64375\n",
      "Data columns (total 13 columns):\n",
      " #   Column            Non-Null Count  Dtype  \n",
      "---  ------            --------------  -----  \n",
      " 0   Province          64376 non-null  object \n",
      " 1   Container         64376 non-null  object \n",
      " 2   Size_Grade        64376 non-null  object \n",
      " 3   Weight_Kg         64376 non-null  float64\n",
      " 4   Commodities       64376 non-null  object \n",
      " 5   Date              64376 non-null  object \n",
      " 6   Low_Price         64376 non-null  float64\n",
      " 7   High_Price        64376 non-null  float64\n",
      " 8   Sales_Total       64376 non-null  float64\n",
      " 9   Total_Qty_Sold    64376 non-null  int64  \n",
      " 10  Total_Kg_Sold     64376 non-null  float64\n",
      " 11  Stock_On_Hand     64376 non-null  int64  \n",
      " 12  avg_price_per_kg  64376 non-null  float64\n",
      "dtypes: float64(6), int64(2), object(5)\n",
      "memory usage: 6.4+ MB\n"
     ]
    }
   ],
   "source": [
    "df_train.info()"
   ]
  },
  {
   "cell_type": "markdown",
   "metadata": {},
   "source": [
    "The train dataset has 64376 entries, contains no null entries, and have 3 data types for which 6 variables are float, 2 are integer and and lastly 5 of them are object respectively \n",
    "\n",
    "**Test data** "
   ]
  },
  {
   "cell_type": "code",
   "execution_count": 4,
   "metadata": {},
   "outputs": [
    {
     "name": "stdout",
     "output_type": "stream",
     "text": [
      "<class 'pandas.core.frame.DataFrame'>\n",
      "RangeIndex: 685 entries, 0 to 684\n",
      "Data columns (total 13 columns):\n",
      " #   Column          Non-Null Count  Dtype  \n",
      "---  ------          --------------  -----  \n",
      " 0   Index           685 non-null    int64  \n",
      " 1   Province        685 non-null    object \n",
      " 2   Container       685 non-null    object \n",
      " 3   Size_Grade      685 non-null    object \n",
      " 4   Weight_Kg       685 non-null    float64\n",
      " 5   Commodities     685 non-null    object \n",
      " 6   Date            685 non-null    object \n",
      " 7   Low_Price       685 non-null    float64\n",
      " 8   High_Price      685 non-null    float64\n",
      " 9   Sales_Total     685 non-null    float64\n",
      " 10  Total_Qty_Sold  685 non-null    int64  \n",
      " 11  Total_Kg_Sold   685 non-null    float64\n",
      " 12  Stock_On_Hand   685 non-null    int64  \n",
      "dtypes: float64(5), int64(3), object(5)\n",
      "memory usage: 69.7+ KB\n"
     ]
    }
   ],
   "source": [
    "df_test.info()"
   ]
  },
  {
   "cell_type": "markdown",
   "metadata": {},
   "source": [
    "The train dataset has 685 entries, contains no null entries, and have 3 data types for which 5 variables are float, 3 are integer and and lastly 5 of them are object respectively \n"
   ]
  },
  {
   "cell_type": "markdown",
   "metadata": {},
   "source": [
    "## 4. Preprocessing\n",
    "<a id='the_prep'></a>\n",
    "[Back to table of contents](#toc)"
   ]
  },
  {
   "cell_type": "markdown",
   "metadata": {},
   "source": [
    "The dataframe has many different types of commodities, so we select only observations listed for Golden Delicious Apples."
   ]
  },
  {
   "cell_type": "code",
   "execution_count": 5,
   "metadata": {},
   "outputs": [
    {
     "data": {
      "text/html": [
       "<div>\n",
       "<style scoped>\n",
       "    .dataframe tbody tr th:only-of-type {\n",
       "        vertical-align: middle;\n",
       "    }\n",
       "\n",
       "    .dataframe tbody tr th {\n",
       "        vertical-align: top;\n",
       "    }\n",
       "\n",
       "    .dataframe thead th {\n",
       "        text-align: right;\n",
       "    }\n",
       "</style>\n",
       "<table border=\"1\" class=\"dataframe\">\n",
       "  <thead>\n",
       "    <tr style=\"text-align: right;\">\n",
       "      <th></th>\n",
       "      <th>Province</th>\n",
       "      <th>Container</th>\n",
       "      <th>Size_Grade</th>\n",
       "      <th>Weight_Kg</th>\n",
       "      <th>Commodities</th>\n",
       "      <th>Date</th>\n",
       "      <th>Low_Price</th>\n",
       "      <th>High_Price</th>\n",
       "      <th>Sales_Total</th>\n",
       "      <th>Total_Qty_Sold</th>\n",
       "      <th>Total_Kg_Sold</th>\n",
       "      <th>Stock_On_Hand</th>\n",
       "      <th>avg_price_per_kg</th>\n",
       "    </tr>\n",
       "  </thead>\n",
       "  <tbody>\n",
       "    <tr>\n",
       "      <th>1</th>\n",
       "      <td>CAPE</td>\n",
       "      <td>M4183</td>\n",
       "      <td>1L</td>\n",
       "      <td>18.3</td>\n",
       "      <td>APPLE GOLDEN DELICIOUS</td>\n",
       "      <td>2020-09-09</td>\n",
       "      <td>150.0</td>\n",
       "      <td>170.0</td>\n",
       "      <td>51710.0</td>\n",
       "      <td>332</td>\n",
       "      <td>6075.6</td>\n",
       "      <td>822</td>\n",
       "      <td>8.51</td>\n",
       "    </tr>\n",
       "    <tr>\n",
       "      <th>7</th>\n",
       "      <td>CAPE</td>\n",
       "      <td>JG110</td>\n",
       "      <td>2M</td>\n",
       "      <td>11.0</td>\n",
       "      <td>APPLE GOLDEN DELICIOUS</td>\n",
       "      <td>2020-04-14</td>\n",
       "      <td>50.0</td>\n",
       "      <td>50.0</td>\n",
       "      <td>16000.0</td>\n",
       "      <td>320</td>\n",
       "      <td>3520.0</td>\n",
       "      <td>0</td>\n",
       "      <td>4.55</td>\n",
       "    </tr>\n",
       "    <tr>\n",
       "      <th>24</th>\n",
       "      <td>W.CAPE-BERGRIVER ETC</td>\n",
       "      <td>JE090</td>\n",
       "      <td>2S</td>\n",
       "      <td>9.0</td>\n",
       "      <td>APPLE GOLDEN DELICIOUS</td>\n",
       "      <td>2020-04-16</td>\n",
       "      <td>55.0</td>\n",
       "      <td>55.0</td>\n",
       "      <td>990.0</td>\n",
       "      <td>18</td>\n",
       "      <td>162.0</td>\n",
       "      <td>1506</td>\n",
       "      <td>6.11</td>\n",
       "    </tr>\n",
       "    <tr>\n",
       "      <th>40</th>\n",
       "      <td>CAPE</td>\n",
       "      <td>M4183</td>\n",
       "      <td>1S</td>\n",
       "      <td>18.3</td>\n",
       "      <td>APPLE GOLDEN DELICIOUS</td>\n",
       "      <td>2020-05-04</td>\n",
       "      <td>80.0</td>\n",
       "      <td>120.0</td>\n",
       "      <td>32020.0</td>\n",
       "      <td>388</td>\n",
       "      <td>7100.4</td>\n",
       "      <td>443</td>\n",
       "      <td>4.51</td>\n",
       "    </tr>\n",
       "    <tr>\n",
       "      <th>69</th>\n",
       "      <td>EASTERN CAPE</td>\n",
       "      <td>IA400</td>\n",
       "      <td>1S</td>\n",
       "      <td>400.0</td>\n",
       "      <td>APPLE GOLDEN DELICIOUS</td>\n",
       "      <td>2020-09-28</td>\n",
       "      <td>1800.0</td>\n",
       "      <td>1800.0</td>\n",
       "      <td>1800.0</td>\n",
       "      <td>1</td>\n",
       "      <td>400.0</td>\n",
       "      <td>2</td>\n",
       "      <td>4.50</td>\n",
       "    </tr>\n",
       "  </tbody>\n",
       "</table>\n",
       "</div>"
      ],
      "text/plain": [
       "                Province Container Size_Grade  Weight_Kg  \\\n",
       "1                   CAPE     M4183         1L       18.3   \n",
       "7                   CAPE     JG110         2M       11.0   \n",
       "24  W.CAPE-BERGRIVER ETC     JE090         2S        9.0   \n",
       "40                  CAPE     M4183         1S       18.3   \n",
       "69          EASTERN CAPE     IA400         1S      400.0   \n",
       "\n",
       "               Commodities        Date  Low_Price  High_Price  Sales_Total  \\\n",
       "1   APPLE GOLDEN DELICIOUS  2020-09-09      150.0       170.0      51710.0   \n",
       "7   APPLE GOLDEN DELICIOUS  2020-04-14       50.0        50.0      16000.0   \n",
       "24  APPLE GOLDEN DELICIOUS  2020-04-16       55.0        55.0        990.0   \n",
       "40  APPLE GOLDEN DELICIOUS  2020-05-04       80.0       120.0      32020.0   \n",
       "69  APPLE GOLDEN DELICIOUS  2020-09-28     1800.0      1800.0       1800.0   \n",
       "\n",
       "    Total_Qty_Sold  Total_Kg_Sold  Stock_On_Hand  avg_price_per_kg  \n",
       "1              332         6075.6            822              8.51  \n",
       "7              320         3520.0              0              4.55  \n",
       "24              18          162.0           1506              6.11  \n",
       "40             388         7100.4            443              4.51  \n",
       "69               1          400.0              2              4.50  "
      ]
     },
     "execution_count": 5,
     "metadata": {},
     "output_type": "execute_result"
    }
   ],
   "source": [
    "#Creating a new dataset to work with\n",
    "df_training_dataset=df_train[df_train.Commodities=='APPLE GOLDEN DELICIOUS']\n",
    "df_training_dataset.head()"
   ]
  },
  {
   "cell_type": "markdown",
   "metadata": {},
   "source": [
    "### Extra feature extraction"
   ]
  },
  {
   "cell_type": "markdown",
   "metadata": {},
   "source": [
    "The first feature we will extract is the date of which the apples were produced by making the date column as datetime. We'll start by writing a function, (`to_season`), that takes a month as input and determines its season, i.e. spring, summer,autumn or winter.we decided to classify all seasons with month of less than equal 11 and greater or equal 9 as spring, month between 1 and 2 are classified as summer or if month equals 12 is summer and a month that is between 3 and 5 inclusive indicates an autumn, and also a month between 6 and 8 indicates winter."
   ]
  },
  {
   "cell_type": "code",
   "execution_count": 6,
   "metadata": {},
   "outputs": [],
   "source": [
    "def to_season(m):\n",
    "    \"\"\" A function that determines the Season of when the apples were produced.\n",
    "\n",
    "        Parameters\n",
    "        ----------\n",
    "        month: Month integer.\n",
    "\n",
    "        Returns\n",
    "        -------\n",
    "        season:  String indicating the season of the input integer.\n",
    "    \"\"\"\n",
    "\n",
    "    if 9<= m<= 11:\n",
    "        return \"spring\"\n",
    "    if 1<= m<= 2:\n",
    "        return \"summer\"\n",
    "    if m == 12:\n",
    "        return \"summer\"\n",
    "    if 3<= m<= 5:\n",
    "        return \"autumn\"\n",
    "    if 6<= m<= 8:\n",
    "        return \"winter\"\n"
   ]
  },
  {
   "cell_type": "code",
   "execution_count": 7,
   "metadata": {},
   "outputs": [],
   "source": [
    "df_training_dataset[\"Date\"] = df_training_dataset[\"Date\"].apply(pd.to_datetime)"
   ]
  },
  {
   "cell_type": "markdown",
   "metadata": {},
   "source": [
    "### Data cleaning"
   ]
  },
  {
   "cell_type": "markdown",
   "metadata": {},
   "source": [
    "The describe() method is used for calculating some statistical data like percentile, mean and std of the numerical values of the Series or DataFrame.By doing so we are trying to detect the outliers from the data and start selecting the limits and filtering the outliers"
   ]
  },
  {
   "cell_type": "code",
   "execution_count": 8,
   "metadata": {},
   "outputs": [
    {
     "data": {
      "text/html": [
       "<div>\n",
       "<style scoped>\n",
       "    .dataframe tbody tr th:only-of-type {\n",
       "        vertical-align: middle;\n",
       "    }\n",
       "\n",
       "    .dataframe tbody tr th {\n",
       "        vertical-align: top;\n",
       "    }\n",
       "\n",
       "    .dataframe thead th {\n",
       "        text-align: right;\n",
       "    }\n",
       "</style>\n",
       "<table border=\"1\" class=\"dataframe\">\n",
       "  <thead>\n",
       "    <tr style=\"text-align: right;\">\n",
       "      <th></th>\n",
       "      <th>Weight_Kg</th>\n",
       "      <th>Low_Price</th>\n",
       "      <th>High_Price</th>\n",
       "      <th>Sales_Total</th>\n",
       "      <th>Total_Qty_Sold</th>\n",
       "      <th>Total_Kg_Sold</th>\n",
       "      <th>Stock_On_Hand</th>\n",
       "      <th>avg_price_per_kg</th>\n",
       "    </tr>\n",
       "  </thead>\n",
       "  <tbody>\n",
       "    <tr>\n",
       "      <th>count</th>\n",
       "      <td>1952.000000</td>\n",
       "      <td>1952.000000</td>\n",
       "      <td>1952.000000</td>\n",
       "      <td>1952.000000</td>\n",
       "      <td>1952.000000</td>\n",
       "      <td>1952.000000</td>\n",
       "      <td>1952.000000</td>\n",
       "      <td>1952.000000</td>\n",
       "    </tr>\n",
       "    <tr>\n",
       "      <th>mean</th>\n",
       "      <td>40.460912</td>\n",
       "      <td>174.307377</td>\n",
       "      <td>215.648053</td>\n",
       "      <td>20053.533811</td>\n",
       "      <td>174.510758</td>\n",
       "      <td>2960.176332</td>\n",
       "      <td>408.393955</td>\n",
       "      <td>6.778893</td>\n",
       "    </tr>\n",
       "    <tr>\n",
       "      <th>std</th>\n",
       "      <td>99.655169</td>\n",
       "      <td>373.553578</td>\n",
       "      <td>433.546159</td>\n",
       "      <td>39005.069445</td>\n",
       "      <td>308.810797</td>\n",
       "      <td>6097.416527</td>\n",
       "      <td>724.450582</td>\n",
       "      <td>2.248744</td>\n",
       "    </tr>\n",
       "    <tr>\n",
       "      <th>min</th>\n",
       "      <td>3.000000</td>\n",
       "      <td>2.000000</td>\n",
       "      <td>5.000000</td>\n",
       "      <td>5.000000</td>\n",
       "      <td>1.000000</td>\n",
       "      <td>3.000000</td>\n",
       "      <td>0.000000</td>\n",
       "      <td>0.250000</td>\n",
       "    </tr>\n",
       "    <tr>\n",
       "      <th>25%</th>\n",
       "      <td>9.000000</td>\n",
       "      <td>50.000000</td>\n",
       "      <td>60.000000</td>\n",
       "      <td>1325.000000</td>\n",
       "      <td>12.000000</td>\n",
       "      <td>219.600000</td>\n",
       "      <td>9.000000</td>\n",
       "      <td>5.460000</td>\n",
       "    </tr>\n",
       "    <tr>\n",
       "      <th>50%</th>\n",
       "      <td>12.000000</td>\n",
       "      <td>80.000000</td>\n",
       "      <td>108.000000</td>\n",
       "      <td>5495.000000</td>\n",
       "      <td>64.000000</td>\n",
       "      <td>853.500000</td>\n",
       "      <td>126.500000</td>\n",
       "      <td>6.670000</td>\n",
       "    </tr>\n",
       "    <tr>\n",
       "      <th>75%</th>\n",
       "      <td>18.300000</td>\n",
       "      <td>127.250000</td>\n",
       "      <td>160.000000</td>\n",
       "      <td>21082.500000</td>\n",
       "      <td>200.000000</td>\n",
       "      <td>3093.525000</td>\n",
       "      <td>468.000000</td>\n",
       "      <td>8.280000</td>\n",
       "    </tr>\n",
       "    <tr>\n",
       "      <th>max</th>\n",
       "      <td>400.000000</td>\n",
       "      <td>2300.000000</td>\n",
       "      <td>3300.000000</td>\n",
       "      <td>369464.000000</td>\n",
       "      <td>4237.000000</td>\n",
       "      <td>74000.000000</td>\n",
       "      <td>6400.000000</td>\n",
       "      <td>21.240000</td>\n",
       "    </tr>\n",
       "  </tbody>\n",
       "</table>\n",
       "</div>"
      ],
      "text/plain": [
       "         Weight_Kg    Low_Price   High_Price    Sales_Total  Total_Qty_Sold  \\\n",
       "count  1952.000000  1952.000000  1952.000000    1952.000000     1952.000000   \n",
       "mean     40.460912   174.307377   215.648053   20053.533811      174.510758   \n",
       "std      99.655169   373.553578   433.546159   39005.069445      308.810797   \n",
       "min       3.000000     2.000000     5.000000       5.000000        1.000000   \n",
       "25%       9.000000    50.000000    60.000000    1325.000000       12.000000   \n",
       "50%      12.000000    80.000000   108.000000    5495.000000       64.000000   \n",
       "75%      18.300000   127.250000   160.000000   21082.500000      200.000000   \n",
       "max     400.000000  2300.000000  3300.000000  369464.000000     4237.000000   \n",
       "\n",
       "       Total_Kg_Sold  Stock_On_Hand  avg_price_per_kg  \n",
       "count    1952.000000    1952.000000       1952.000000  \n",
       "mean     2960.176332     408.393955          6.778893  \n",
       "std      6097.416527     724.450582          2.248744  \n",
       "min         3.000000       0.000000          0.250000  \n",
       "25%       219.600000       9.000000          5.460000  \n",
       "50%       853.500000     126.500000          6.670000  \n",
       "75%      3093.525000     468.000000          8.280000  \n",
       "max     74000.000000    6400.000000         21.240000  "
      ]
     },
     "execution_count": 8,
     "metadata": {},
     "output_type": "execute_result"
    }
   ],
   "source": [
    "df_training_dataset.describe()"
   ]
  },
  {
   "cell_type": "markdown",
   "metadata": {},
   "source": [
    "## Descriptive statistics \n",
    "- Count is the count of a given element in a list.\n",
    "- Mean is the sum of data devided by the number of data points.\n",
    "- Standard deviation (std) is the number that describes how spread out the data values are.\n",
    "- Minimum (min) is the lowest value of the dataset.\n",
    "- Lower quartile (25%) is the median of lower half of the dataset.\n",
    "- Median (50%) is the middle value of a dataset.\n",
    "- Upper quartile (75%) is the median of upper half of the dataset.\n",
    "- Maximum (max) is the highest value of the dataset. "
   ]
  },
  {
   "cell_type": "markdown",
   "metadata": {},
   "source": [
    "#### Encoding"
   ]
  },
  {
   "cell_type": "markdown",
   "metadata": {},
   "source": [
    "## 5. Exploratory data analysis\n",
    "<a id='eda'></a>\n",
    "[Back to table of contents](#toc)"
   ]
  },
  {
   "cell_type": "markdown",
   "metadata": {},
   "source": [
    "### Objective:\n",
    "\n",
    "Exploratory Data Analysis (EDA) is an approach to analyzing datasets to summarize their main characteristics. It is used to understand data, get some context regarding it, understand the variables and the relationships between them, and formulate hypotheses that could be useful when building predictive models.\n"
   ]
  },
  {
   "cell_type": "markdown",
   "metadata": {},
   "source": [
    "### General analysis"
   ]
  },
  {
   "cell_type": "markdown",
   "metadata": {},
   "source": [
    "#### Missing values"
   ]
  },
  {
   "cell_type": "markdown",
   "metadata": {},
   "source": [
    "In the data description section we saw that the datasets had no missing values. For example, the train dataset has **64376** entries and both columns have the same amount of non-null entries."
   ]
  },
  {
   "cell_type": "markdown",
   "metadata": {},
   "source": [
    "#### Duplicates"
   ]
  },
  {
   "cell_type": "markdown",
   "metadata": {},
   "source": [
    "Another thing we need to look out for are duplicates. A large amount of duplicates in the data tend to increase the bias of the estimated coefficients and standard errors of the model."
   ]
  },
  {
   "cell_type": "code",
   "execution_count": 9,
   "metadata": {},
   "outputs": [
    {
     "name": "stdout",
     "output_type": "stream",
     "text": [
      "number of duplicate rows: (0, 13)\n"
     ]
    }
   ],
   "source": [
    "#Checking duplicate rows\n",
    "duplicate_rows_df_training_dataset = df_training_dataset[df_training_dataset.duplicated()]\n",
    "print('number of duplicate rows:', duplicate_rows_df_training_dataset.shape)\n"
   ]
  },
  {
   "cell_type": "markdown",
   "metadata": {},
   "source": [
    "The number of duplicated rows is empty, indicating that there are no repeated rows in the dataset  \n"
   ]
  },
  {
   "cell_type": "markdown",
   "metadata": {},
   "source": [
    "### Target variable analysis"
   ]
  },
  {
   "cell_type": "markdown",
   "metadata": {},
   "source": [
    "Our EDA objective as outlined in the previous step is to understand how the variables in the dataset relate to the average price per kilogram of the Golden Delicious Apples. Before we do that we need to understand the variable (`avg_price_per_kg`)!\n",
    "\n",
    "First thing to do is show the descriptive statistics.This allows us to get an understanding of the values this variable can take, as well as the distribution and dispersion"
   ]
  },
  {
   "cell_type": "code",
   "execution_count": 99,
   "metadata": {},
   "outputs": [
    {
     "data": {
      "text/plain": [
       "count    1952.000000\n",
       "mean        6.778893\n",
       "std         2.248744\n",
       "min         0.250000\n",
       "25%         5.460000\n",
       "50%         6.670000\n",
       "75%         8.280000\n",
       "max        21.240000\n",
       "Name: avg_price_per_kg, dtype: float64"
      ]
     },
     "execution_count": 99,
     "metadata": {},
     "output_type": "execute_result"
    }
   ],
   "source": [
    "#Get summary statistics for the Average Price Per Kg\n",
    "df_training_dataset['avg_price_per_kg'].describe()"
   ]
  },
  {
   "cell_type": "markdown",
   "metadata": {},
   "source": [
    "From this we see that the mean average price per kilogram is R6.78, with a standard deviation of R2.25.The cheapest Golden Apples in the dataset sold for R0.25 and the most expensive Apples sold for R21.24\n",
    "\n",
    "#### Density distribion of average price per kg\n",
    "- Analysis of the skewness of target variable (`avg_price_per_kg`), shows that the distribution below has a moderate positive skew. \n",
    "- Analysis of the target variable kurtosis shows that the tails are slighlty heavier and the distribution is slighlty peaked than a normal distribution."
   ]
  },
  {
   "cell_type": "code",
   "execution_count": 11,
   "metadata": {},
   "outputs": [
    {
     "data": {
      "text/plain": [
       "<function matplotlib.pyplot.show(close=None, block=None)>"
      ]
     },
     "execution_count": 11,
     "metadata": {},
     "output_type": "execute_result"
    },
    {
     "data": {
      "image/png": "[encoded data removed]",
      "text/plain": [
       "<Figure size 576x576 with 1 Axes>"
      ]
     },
     "metadata": {
      "needs_background": "light"
     },
     "output_type": "display_data"
    }
   ],
   "source": [
    "#Plot distribution of average price per kilogram using matplotlib\n",
    "plt.figure(figsize=(8,8))\n",
    "plt.hist(df_training_dataset['avg_price_per_kg'],bins=20)\n",
    "plt.xlabel('Average Price Per Kg')\n",
    "plt.ylabel('Count')\n",
    "plt.grid(True)\n",
    "plt.figtext(0.12, -0.1, 'figure 1 :Distribution of the Average Price Per Kg Variable', horizontalalignment='left',fontsize = 14,style='italic')\n",
    "plt.show"
   ]
  },
  {
   "cell_type": "markdown",
   "metadata": {},
   "source": [
    "Taking a look at the histogram, we can see that very few Golden Apples are priced below 2, most of the apples sold between 6 and 7, and very few Golden Apples sold for above 11.\n",
    "\n",
    "[Also taking a look at the distribution of the Average Price, we can see that:](#dist)  \n",
    "- Deviate from the normal distribution,\n",
    "- have appreciable positive skewness and\n",
    "- show peakedness.\n",
    "\n",
    "Let's get a body measure for the whole dataset and Average Price Per Kilogram"
   ]
  },
  {
   "cell_type": "code",
   "execution_count": 109,
   "metadata": {},
   "outputs": [
    {
     "data": {
      "text/plain": [
       "Weight_Kg            9.109698\n",
       "Low_Price           17.073369\n",
       "High_Price          13.630768\n",
       "Sales_Total         24.200524\n",
       "Total_Qty_Sold      32.338123\n",
       "Total_Kg_Sold       45.153801\n",
       "Stock_On_Hand       14.671224\n",
       "avg_price_per_kg     1.042921\n",
       "dtype: float64"
      ]
     },
     "execution_count": 109,
     "metadata": {},
     "output_type": "execute_result"
    }
   ],
   "source": [
    "df_training_dataset.kurtosis()"
   ]
  },
  {
   "cell_type": "markdown",
   "metadata": {},
   "source": [
    "All features in the dataset present with great kurtosis (>3 for the normal distribution), indicating that we have a lot of outliers in these features\n",
    "- Kurtosis is a statistical measure that defines how heavily the tails of a distribution differ from the tails of a normal distribution.\n",
    "- Kurtosis identifies whether the tailes of a given distribution contain extreme values."
   ]
  },
  {
   "cell_type": "code",
   "execution_count": 111,
   "metadata": {},
   "outputs": [
    {
     "data": {
      "text/plain": [
       "Weight_Kg           3.328254\n",
       "Low_Price           4.222672\n",
       "High_Price          3.828819\n",
       "Sales_Total         4.250317\n",
       "Total_Qty_Sold      4.445169\n",
       "Total_Kg_Sold       5.529586\n",
       "Stock_On_Hand       3.391815\n",
       "avg_price_per_kg    0.082452\n",
       "dtype: float64"
      ]
     },
     "execution_count": 111,
     "metadata": {},
     "output_type": "execute_result"
    }
   ],
   "source": [
    "df_training_dataset.skew()"
   ]
  },
  {
   "cell_type": "markdown",
   "metadata": {},
   "source": [
    "All features present a very large positive skew.\n",
    "- Positive skew (or right-skew) distribution is a type of distribution in which most values are clustered around the left tail of the distribution while the right tail of the distribution is longer."
   ]
  },
  {
   "cell_type": "code",
   "execution_count": 107,
   "metadata": {},
   "outputs": [
    {
     "name": "stdout",
     "output_type": "stream",
     "text": [
      "Skewness: 0.082452\n",
      "Kurtosis: 1.042921\n"
     ]
    }
   ],
   "source": [
    "#Skewness and Kurtosis\n",
    "print(\"Skewness: %f\" % df_training_dataset['avg_price_per_kg'].skew())\n",
    "print(\"Kurtosis: %f\" % df_training_dataset['avg_price_per_kg'].kurt())\n"
   ]
  },
  {
   "cell_type": "markdown",
   "metadata": {},
   "source": [
    "We will only be working with some of the variables — let’s filter and store their names in two lists called `numerical` and `catagorical`, then redefine our `df_training_dataset` DataFrame to contain only these variables:\n"
   ]
  },
  {
   "cell_type": "code",
   "execution_count": 47,
   "metadata": {},
   "outputs": [],
   "source": [
    "numeriacal=['Low_Price', 'High_Price', 'Sales_Total', 'Total_Qty_Sold', 'Total_Kg_Sold', 'Stock_On_Hand', 'Weight_Kg']\n",
    "catagorical=['Province','Container','Size_Grade']"
   ]
  },
  {
   "cell_type": "code",
   "execution_count": 98,
   "metadata": {},
   "outputs": [
    {
     "data": {
      "text/plain": [
       "<AxesSubplot:>"
      ]
     },
     "execution_count": 98,
     "metadata": {},
     "output_type": "execute_result"
    },
    {
     "data": {
      "image/png": "[encoded data removed]",
      "text/plain": [
       "<Figure size 432x288 with 1 Axes>"
      ]
     },
     "metadata": {
      "needs_background": "light"
     },
     "output_type": "display_data"
    }
   ],
   "source": [
    " # creating histograms for our all numerical variables\n",
    "sns.distplot(df_training_dataset[features],kde=False)\n",
    "#plt.show()"
   ]
  },
  {
   "cell_type": "markdown",
   "metadata": {},
   "source": [
    "### Analyzing Categorical Variables\n"
   ]
  },
  {
   "cell_type": "markdown",
   "metadata": {},
   "source": [
    "Categorical variables are those for which the values are labeled categories. The values, distribution, and dispersion of categorical variables are best understood with **bar plots**. Let’s analyze the (`Province`) variable. `seaborn` gives us a very simple method to show the counts of observations in each category: the `countplot`.\n"
   ]
  },
  {
   "cell_type": "code",
   "execution_count": 32,
   "metadata": {},
   "outputs": [
    {
     "data": {
      "text/plain": [
       "Text(0.12, -0.1, 'figure 3 :The bars in this plot represent the number of Apples produced for each province')"
      ]
     },
     "execution_count": 32,
     "metadata": {},
     "output_type": "execute_result"
    },
    {
     "data": {
      "image/png": "[encoded data removed]",
      "text/plain": [
       "<Figure size 864x504 with 1 Axes>"
      ]
     },
     "metadata": {
      "needs_background": "light"
     },
     "output_type": "display_data"
    }
   ],
   "source": [
    "plt.figure(figsize= (12,7))\n",
    "sns.countplot(y='Province', data=df_training_dataset)\n",
    "plt.figtext(0.12, -0.1, 'figure 3 :The bars in this plot represent the number of Apples produced for each province', horizontalalignment='left',fontsize = 14,style='italic')\n"
   ]
  },
  {
   "cell_type": "markdown",
   "metadata": {},
   "source": [
    "From the visualization, we can easily see that most Golden Delicious Apples were produced in the `CAPE` Province, and very few were produced in `TRANSVAAL` and `ORANGE FREE STATE` provinces.\n",
    "\n",
    "The reason why Cape provinces produce more Golden Delicious Apple it is because they are the largest traditional apple production region and accounts for more than half of the apple production in the country.The biggest apple production regions are around the Western Cape towns of Ceres, Wolseley, Elgin and Villiersdorp. The Langkloof region is along South Africa’s Southern Cape and spans the border between the Western and the Eastern Cape and produces around 20% of the country’s apples. There are also small but growing production areas further north in the country in the Free State, Mpumalanga and Limpopo Provinces as we can see that Orange Free State has the least of apples production.\n",
    "\n"
   ]
  },
  {
   "cell_type": "markdown",
   "metadata": {},
   "source": [
    "Then we iterate over every categorical variable to create a countplot with seaborn:"
   ]
  },
  {
   "cell_type": "code",
   "execution_count": 113,
   "metadata": {},
   "outputs": [
    {
     "data": {
      "image/png": "[encoded data removed]",
      "text/plain": [
       "<Figure size 1080x1080 with 3 Axes>"
      ]
     },
     "metadata": {
      "needs_background": "light"
     },
     "output_type": "display_data"
    }
   ],
   "source": [
    "#Countplots for our categorical variables\n",
    "fig, ax = plt.subplots(3, 1, figsize=(15,15))\n",
    "for variable, subplot in zip(catagorical, ax.flatten()):\n",
    "    sns.countplot(df_training_dataset[variable], ax=subplot)\n",
    "    plt.figtext(0.10, -0.0, 'figure 4 :Countplots for each of our categorical variables', horizontalalignment='left',fontsize = 14,style='italic')\n",
    "    for label in subplot.get_xticklabels():\n",
    "        label.set_rotation(7)\n"
   ]
  },
  {
   "cell_type": "markdown",
   "metadata": {},
   "source": [
    "As with our numerical variable histograms, we can gather lots of information from this visual-As previously seen that lots af apples are produced from Cape province and largest container for the apples is M4183 ith the size grade of 1S"
   ]
  },
  {
   "cell_type": "markdown",
   "metadata": {},
   "source": [
    "### Analyzing Relationships Between Numerical and Categorical Variables\n"
   ]
  },
  {
   "cell_type": "markdown",
   "metadata": {},
   "source": [
    "The box-and-whisker plot is commonly used for visualizing relationships between numerical variables and categorical variables, and **complex conditional plots** are used to visualize conditional relationships.\n"
   ]
  },
  {
   "cell_type": "code",
   "execution_count": 112,
   "metadata": {},
   "outputs": [
    {
     "data": {
      "image/png": "[encoded data removed]",
      "text/plain": [
       "<Figure size 1080x1080 with 3 Axes>"
      ]
     },
     "metadata": {
      "needs_background": "light"
     },
     "output_type": "display_data"
    }
   ],
   "source": [
    "fig, ax = plt.subplots(3, 1, figsize=(15, 15))\n",
    "for var, subplot in zip(catagorical, ax.flatten()):\n",
    "    sns.boxplot(x=var, y='avg_price_per_kg', data=df_training_dataset, ax=subplot)\n",
    "    plt.figtext(0.10, -0.0, 'figure 5 :Box-and-whisker plots for each of our categorical variables and their relationships with Average Price Per Kg', horizontalalignment='left',fontsize = 14,style='italic')\n"
   ]
  },
  {
   "cell_type": "markdown",
   "metadata": {},
   "source": [
    "Here, we have iterated through every subplot to produce the visualization between all categorical variables and the avg_price_per_kg.\n",
    "\n",
    "We can see that Apples produced from W.CAPE-BERGRIVER ETC province classification have a higher average price per kilogram than other province classifications, as do apples with M4183 container, and apples with 1L Size_grade. We can also see that there is significant difference variance in average price per Kilogram between apples with different all three categorical variables.\n"
   ]
  },
  {
   "cell_type": "markdown",
   "metadata": {},
   "source": [
    "### Bivariate analysis"
   ]
  },
  {
   "cell_type": "markdown",
   "metadata": {},
   "source": [
    "**Correlation Analysis** is statistical method that is used to discover if there is a relationship between two variables/ bivariet datasets, and how strong that relationship may be.\n"
   ]
  },
  {
   "cell_type": "code",
   "execution_count": 106,
   "metadata": {},
   "outputs": [
    {
     "data": {
      "image/png": "[encoded data removed]",
      "text/plain": [
       "<Figure size 720x720 with 2 Axes>"
      ]
     },
     "metadata": {
      "needs_background": "light"
     },
     "output_type": "display_data"
    }
   ],
   "source": [
    "#Heat map for all numerical values in the dataset\n",
    "f, ax = plt.subplots(figsize=(10, 10))\n",
    "sns.heatmap(df_training_dataset.corr(), vmin=-1, vmax=1, square=True, annot=True);"
   ]
  },
  {
   "cell_type": "markdown",
   "metadata": {},
   "source": [
    "\n",
    "Already we can see evidence of multicollinearity between some variables.  We would have to keep a watchful eye on these relationships.  None of the predictors have a relationship (positive or negative) with our response variable.  Perhaps once we deal with the outliers this will change.\n",
    "\n",
    "Looking at the **Correlation coefficients** whose magnitude are between 0.5 and 0.7 indicate variables which can be considered moderately correlated. **Correlation coefficients** whose magnitude are between 0.3 and 0.5 indicate variables which have a low correlation. values from 0 to 0.25 or from 0 to -0.25 are commonly regarded to indicate the absence of correlation\n"
   ]
  }
 ],
 "metadata": {
  "kernelspec": {
   "display_name": "Python 3",
   "language": "python",
   "name": "python3"
  },
  "language_info": {
   "codemirror_mode": {
    "name": "ipython",
    "version": 3
   },
   "file_extension": ".py",
   "mimetype": "text/x-python",
   "name": "python",
   "nbconvert_exporter": "python",
   "pygments_lexer": "ipython3",
   "version": "3.7.6"
  }
 },
 "nbformat": 4,
 "nbformat_minor": 4
}
